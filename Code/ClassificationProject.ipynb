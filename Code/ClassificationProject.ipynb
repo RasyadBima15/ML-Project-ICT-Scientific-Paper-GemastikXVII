{
 "cells": [
  {
   "cell_type": "code",
   "execution_count": 9,
   "metadata": {},
   "outputs": [
    {
     "data": {
      "text/html": [
       "<div>\n",
       "<style scoped>\n",
       "    .dataframe tbody tr th:only-of-type {\n",
       "        vertical-align: middle;\n",
       "    }\n",
       "\n",
       "    .dataframe tbody tr th {\n",
       "        vertical-align: top;\n",
       "    }\n",
       "\n",
       "    .dataframe thead th {\n",
       "        text-align: right;\n",
       "    }\n",
       "</style>\n",
       "<table border=\"1\" class=\"dataframe\">\n",
       "  <thead>\n",
       "    <tr style=\"text-align: right;\">\n",
       "      <th></th>\n",
       "      <th>Username</th>\n",
       "      <th>Comment</th>\n",
       "    </tr>\n",
       "  </thead>\n",
       "  <tbody>\n",
       "    <tr>\n",
       "      <th>0</th>\n",
       "      <td>Markeso Farm</td>\n",
       "      <td>prediksi sya gibran di diskualifikasi,tapi pra...</td>\n",
       "    </tr>\n",
       "    <tr>\n",
       "      <th>1</th>\n",
       "      <td>ANDY TORAJA</td>\n",
       "      <td>tapi sy heran knp tdk dari awal di persoalkan ...</td>\n",
       "    </tr>\n",
       "    <tr>\n",
       "      <th>2</th>\n",
       "      <td>Juan Felix Michael</td>\n",
       "      <td>jelas2.... pemungutan ulang dan 02 didiskualif...</td>\n",
       "    </tr>\n",
       "    <tr>\n",
       "      <th>3</th>\n",
       "      <td>818anakrantau</td>\n",
       "      <td>trus apa fungsi dkpp ketika ada pelanggaran tp...</td>\n",
       "    </tr>\n",
       "    <tr>\n",
       "      <th>4</th>\n",
       "      <td>Fery Khadafy</td>\n",
       "      <td>ayo pemilu ulang tanpa Gibran...\\naku pilih Pr...</td>\n",
       "    </tr>\n",
       "  </tbody>\n",
       "</table>\n",
       "</div>"
      ],
      "text/plain": [
       "              Username                                            Comment\n",
       "0        Markeso Farm   prediksi sya gibran di diskualifikasi,tapi pra...\n",
       "1         ANDY TORAJA   tapi sy heran knp tdk dari awal di persoalkan ...\n",
       "2  Juan Felix Michael   jelas2.... pemungutan ulang dan 02 didiskualif...\n",
       "3       818anakrantau   trus apa fungsi dkpp ketika ada pelanggaran tp...\n",
       "4        Fery Khadafy   ayo pemilu ulang tanpa Gibran...\\naku pilih Pr..."
      ]
     },
     "execution_count": 9,
     "metadata": {},
     "output_type": "execute_result"
    }
   ],
   "source": [
    "import pandas as pd\n",
    "\n",
    "df = pd.read_csv(\"ScrapeDataFromTiktok.csv\")\n",
    "df.head()"
   ]
  },
  {
   "cell_type": "code",
   "execution_count": 10,
   "metadata": {},
   "outputs": [
    {
     "data": {
      "text/plain": [
       "(3289, 2)"
      ]
     },
     "execution_count": 10,
     "metadata": {},
     "output_type": "execute_result"
    }
   ],
   "source": [
    "df.shape"
   ]
  }
 ],
 "metadata": {
  "kernelspec": {
   "display_name": "MlProject",
   "language": "python",
   "name": "python3"
  },
  "language_info": {
   "codemirror_mode": {
    "name": "ipython",
    "version": 3
   },
   "file_extension": ".py",
   "mimetype": "text/x-python",
   "name": "python",
   "nbconvert_exporter": "python",
   "pygments_lexer": "ipython3",
   "version": "3.12.3"
  }
 },
 "nbformat": 4,
 "nbformat_minor": 2
}
